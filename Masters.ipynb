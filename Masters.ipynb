{
 "cells": [
  {
   "cell_type": "markdown",
   "id": "49619a11-fa27-4caf-beb0-a01d99928783",
   "metadata": {},
   "source": [
    "# Limitations\n",
    "\n",
    "1) Vi har allerede nu valgt at begrænse til USA, \"Replication Crisis\" gjorde det med \n",
    "2) Vi har begrænset os til de 153 firm characteristics som de også har valgt i \"Replication Crisis\"\n",
    "3) Tid = "
   ]
  },
  {
   "cell_type": "markdown",
   "id": "3918f1da-f44f-459c-b168-9c9318eab631",
   "metadata": {},
   "source": [
    "# Load Libraries"
   ]
  },
  {
   "cell_type": "code",
   "execution_count": 67,
   "id": "ae7e4b45-7004-4b3e-ad48-bdc4724cc504",
   "metadata": {},
   "outputs": [],
   "source": [
    "import pandas as pd"
   ]
  },
  {
   "cell_type": "markdown",
   "id": "6b3777b0-c896-44e2-bef0-ef5ac5168b47",
   "metadata": {},
   "source": [
    "# Importing Data"
   ]
  },
  {
   "cell_type": "code",
   "execution_count": 78,
   "id": "4970bcb5-d588-4308-b2b7-29745018e4b2",
   "metadata": {},
   "outputs": [],
   "source": [
    "# Import Data here\n",
    "\n",
    "data = pd.read_csv('/Users/christiangartmann/Desktop/Data/[usa]_[all_factors]_[monthly]_[vw_cap].csv')"
   ]
  },
  {
   "cell_type": "code",
   "execution_count": 80,
   "id": "b20a0445-a612-4623-a2cd-5daa9d8f21d1",
   "metadata": {},
   "outputs": [
    {
     "name": "stdout",
     "output_type": "stream",
     "text": [
      "['age' 'aliq_at' 'aliq_mat' 'ami_126d' 'at_be' 'at_gr1' 'at_me'\n",
      " 'at_turnover' 'be_gr1a' 'be_me' 'beta_60m' 'beta_dimson_21d'\n",
      " 'betabab_1260d' 'betadown_252d' 'bev_mev' 'bidaskhl_21d' 'capex_abn'\n",
      " 'capx_gr1' 'capx_gr2' 'capx_gr3' 'cash_at' 'chcsho_12m' 'coa_gr1a'\n",
      " 'col_gr1a' 'cop_at' 'cop_atl1' 'corr_1260d' 'coskew_21d' 'cowc_gr1a'\n",
      " 'dbnetis_at' 'debt_gr3' 'debt_me' 'dgp_dsale' 'div12m_me' 'dolvol_126d'\n",
      " 'dolvol_var_126d' 'dsale_dinv' 'dsale_drec' 'dsale_dsga'\n",
      " 'earnings_variability' 'ebit_bev' 'ebit_sale' 'ebitda_mev' 'emp_gr1'\n",
      " 'eq_dur' 'eqnetis_at' 'eqnpo_12m' 'eqnpo_me' 'eqpo_me' 'f_score' 'fcf_me'\n",
      " 'fnl_gr1a' 'gp_at' 'gp_atl1' 'inv_gr1' 'inv_gr1a' 'iskew_capm_21d'\n",
      " 'iskew_ff3_21d' 'iskew_hxz4_21d' 'ival_me' 'ivol_capm_21d'\n",
      " 'ivol_capm_252d' 'ivol_ff3_21d' 'ivol_hxz4_21d' 'kz_index' 'lnoa_gr1a'\n",
      " 'lti_gr1a' 'market_equity' 'mispricing_mgmt' 'mispricing_perf'\n",
      " 'ncoa_gr1a' 'ncol_gr1a' 'netdebt_me' 'netis_at' 'nfna_gr1a' 'ni_ar1'\n",
      " 'ni_be' 'ni_inc8q' 'ni_ivol' 'ni_me' 'niq_at' 'niq_at_chg1' 'niq_be'\n",
      " 'niq_be_chg1' 'niq_su' 'nncoa_gr1a' 'noa_at' 'noa_gr1a' 'o_score'\n",
      " 'oaccruals_at' 'oaccruals_ni' 'ocf_at' 'ocf_at_chg1' 'ocf_me'\n",
      " 'ocfq_saleq_std' 'op_at' 'op_atl1' 'ope_be' 'ope_bel1' 'opex_at' 'pi_nix'\n",
      " 'ppeinv_gr1a' 'prc' 'prc_highprc_252d' 'qmj' 'qmj_growth' 'qmj_prof'\n",
      " 'qmj_safety' 'rd5_at' 'rd_me' 'rd_sale' 'resff3_12_1' 'resff3_6_1'\n",
      " 'ret_12_1' 'ret_12_7' 'ret_1_0' 'ret_3_1' 'ret_60_12' 'ret_6_1' 'ret_9_1'\n",
      " 'rmax1_21d' 'rmax5_21d' 'rmax5_rvol_21d' 'rskew_21d' 'rvol_21d'\n",
      " 'sale_bev' 'sale_emp_gr1' 'sale_gr1' 'sale_gr3' 'sale_me' 'saleq_gr1'\n",
      " 'saleq_su' 'seas_11_15an' 'seas_11_15na' 'seas_16_20an' 'seas_16_20na'\n",
      " 'seas_1_1an' 'seas_1_1na' 'seas_2_5an' 'seas_2_5na' 'seas_6_10an'\n",
      " 'seas_6_10na' 'sti_gr1a' 'taccruals_at' 'taccruals_ni' 'tangibility'\n",
      " 'tax_gr1a' 'turnover_126d' 'turnover_var_126d' 'z_score'\n",
      " 'zero_trades_126d' 'zero_trades_21d' 'zero_trades_252d']\n"
     ]
    }
   ],
   "source": [
    "unique_values = data.iloc[:, 1].unique()\n",
    "print(unique_values)"
   ]
  },
  {
   "cell_type": "markdown",
   "id": "8bf60c07-572f-4a65-b3cc-71160e9a31c3",
   "metadata": {},
   "source": [
    "# Factor Models"
   ]
  },
  {
   "cell_type": "code",
   "execution_count": 28,
   "id": "bb717e2f-3e85-4140-af70-844b661b5847",
   "metadata": {},
   "outputs": [],
   "source": [
    "# Code for different Factor Models"
   ]
  }
 ],
 "metadata": {
  "kernelspec": {
   "display_name": "Python 3 (ipykernel)",
   "language": "python",
   "name": "python3"
  },
  "language_info": {
   "codemirror_mode": {
    "name": "ipython",
    "version": 3
   },
   "file_extension": ".py",
   "mimetype": "text/x-python",
   "name": "python",
   "nbconvert_exporter": "python",
   "pygments_lexer": "ipython3",
   "version": "3.12.4"
  }
 },
 "nbformat": 4,
 "nbformat_minor": 5
}
